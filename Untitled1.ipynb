{
 "cells": [
  {
   "cell_type": "code",
   "execution_count": 8,
   "id": "939a4704",
   "metadata": {},
   "outputs": [
    {
     "name": "stdout",
     "output_type": "stream",
     "text": [
      "enter any number:5\n",
      "[1]\n",
      "[1, 2]\n",
      "[1, 2, 3]\n",
      "[1, 2, 3, 4]\n"
     ]
    }
   ],
   "source": [
    "num1=int(input(\"enter any number:\"))\n",
    "num2=[]\n",
    "\n",
    "for i in range(1,num1):\n",
    "    num2.append(i)\n",
    "    print(num2)\n",
    "    "
   ]
  },
  {
   "cell_type": "code",
   "execution_count": 11,
   "id": "04d43078",
   "metadata": {},
   "outputs": [
    {
     "name": "stdout",
     "output_type": "stream",
     "text": [
      "sum= 1\n",
      "sum= 3\n",
      "sum= 6\n",
      "sum= 10\n"
     ]
    }
   ],
   "source": [
    "add=0\n",
    "\n",
    "\n",
    "for j in num2:\n",
    "    add=j+add\n",
    "    print(\"sum=\",add)"
   ]
  },
  {
   "cell_type": "code",
   "execution_count": 12,
   "id": "359131b2",
   "metadata": {},
   "outputs": [
    {
     "name": "stdout",
     "output_type": "stream",
     "text": [
      "Odd number detected\n",
      "Even number detected\n",
      "Odd number detected\n",
      "Even number detected\n"
     ]
    }
   ],
   "source": [
    "for i in range(1,num1):\n",
    "    if i % 2==0:\n",
    "        print(\"Even number detected\".format(num2))\n",
    "    else:\n",
    "        print(\"Odd number detected\".format(num2))"
   ]
  },
  {
   "cell_type": "code",
   "execution_count": 13,
   "id": "e23e3bca",
   "metadata": {},
   "outputs": [],
   "source": [
    "personal_detail={\n",
    "    \"name\":\"kazi\",\n",
    "    \"age\":24,\n",
    "    \"teaches\":\"broadway\",\n",
    "    \"courses\":['data science','machine learning','deep learning']\n",
    "}"
   ]
  },
  {
   "cell_type": "code",
   "execution_count": 14,
   "id": "6653d5c8",
   "metadata": {},
   "outputs": [
    {
     "data": {
      "text/plain": [
       "dict"
      ]
     },
     "execution_count": 14,
     "metadata": {},
     "output_type": "execute_result"
    }
   ],
   "source": [
    "type(personal_detail)"
   ]
  },
  {
   "cell_type": "code",
   "execution_count": 15,
   "id": "1fedaa9e",
   "metadata": {},
   "outputs": [
    {
     "data": {
      "text/plain": [
       "'kazi'"
      ]
     },
     "execution_count": 15,
     "metadata": {},
     "output_type": "execute_result"
    }
   ],
   "source": [
    "personal_detail['name']"
   ]
  },
  {
   "cell_type": "code",
   "execution_count": 16,
   "id": "2a72a274",
   "metadata": {},
   "outputs": [
    {
     "data": {
      "text/plain": [
       "['data science', 'machine learning', 'deep learning']"
      ]
     },
     "execution_count": 16,
     "metadata": {},
     "output_type": "execute_result"
    }
   ],
   "source": [
    "personal_detail.get('courses')"
   ]
  },
  {
   "cell_type": "code",
   "execution_count": 17,
   "id": "59249cb3",
   "metadata": {},
   "outputs": [
    {
     "data": {
      "text/plain": [
       "['name', 'age', 'teaches', 'courses']"
      ]
     },
     "execution_count": 17,
     "metadata": {},
     "output_type": "execute_result"
    }
   ],
   "source": [
    "list(personal_detail.keys())"
   ]
  },
  {
   "cell_type": "code",
   "execution_count": 18,
   "id": "68ebb9bc",
   "metadata": {},
   "outputs": [
    {
     "name": "stdout",
     "output_type": "stream",
     "text": [
      "key=name and value=kazi\n",
      "<class 'str'>\n",
      "key=age and value=24\n",
      "<class 'int'>\n",
      "key=teaches and value=broadway\n",
      "<class 'str'>\n",
      "key=courses and value=['data science', 'machine learning', 'deep learning']\n",
      "<class 'list'>\n"
     ]
    }
   ],
   "source": [
    "for key,val in personal_detail.items():\n",
    "    print(\"key={} and value={}\".format(key,val))\n",
    "    print(type(val))"
   ]
  },
  {
   "cell_type": "code",
   "execution_count": null,
   "id": "f4553685",
   "metadata": {},
   "outputs": [],
   "source": []
  }
 ],
 "metadata": {
  "kernelspec": {
   "display_name": "Python 3 (ipykernel)",
   "language": "python",
   "name": "python3"
  },
  "language_info": {
   "codemirror_mode": {
    "name": "ipython",
    "version": 3
   },
   "file_extension": ".py",
   "mimetype": "text/x-python",
   "name": "python",
   "nbconvert_exporter": "python",
   "pygments_lexer": "ipython3",
   "version": "3.8.10"
  }
 },
 "nbformat": 4,
 "nbformat_minor": 5
}
