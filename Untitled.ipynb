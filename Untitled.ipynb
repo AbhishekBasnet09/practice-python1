{
 "cells": [
  {
   "cell_type": "code",
   "execution_count": 2,
   "id": "bc68baba",
   "metadata": {},
   "outputs": [],
   "source": [
    "kazi=9\n",
    "tulkey=10\n"
   ]
  },
  {
   "cell_type": "code",
   "execution_count": 3,
   "id": "e8896f04",
   "metadata": {},
   "outputs": [],
   "source": [
    "sneha=kazi\n",
    "kazi=tulkey\n",
    "tulkey=sneha"
   ]
  },
  {
   "cell_type": "code",
   "execution_count": 4,
   "id": "5de4bae6",
   "metadata": {},
   "outputs": [
    {
     "name": "stdout",
     "output_type": "stream",
     "text": [
      "10\n"
     ]
    }
   ],
   "source": [
    "print(kazi)"
   ]
  },
  {
   "cell_type": "code",
   "execution_count": 5,
   "id": "2f604314",
   "metadata": {},
   "outputs": [
    {
     "name": "stdout",
     "output_type": "stream",
     "text": [
      "9\n"
     ]
    }
   ],
   "source": [
    "print(tulkey)"
   ]
  },
  {
   "cell_type": "code",
   "execution_count": null,
   "id": "b94c2a63",
   "metadata": {},
   "outputs": [],
   "source": []
  }
 ],
 "metadata": {
  "kernelspec": {
   "display_name": "Python 3 (ipykernel)",
   "language": "python",
   "name": "python3"
  },
  "language_info": {
   "codemirror_mode": {
    "name": "ipython",
    "version": 3
   },
   "file_extension": ".py",
   "mimetype": "text/x-python",
   "name": "python",
   "nbconvert_exporter": "python",
   "pygments_lexer": "ipython3",
   "version": "3.8.10"
  }
 },
 "nbformat": 4,
 "nbformat_minor": 5
}
