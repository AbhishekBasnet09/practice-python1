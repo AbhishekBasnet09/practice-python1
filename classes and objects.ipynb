{
 "cells": [
  {
   "cell_type": "code",
   "execution_count": 1,
   "id": "690dcb96",
   "metadata": {},
   "outputs": [],
   "source": [
    "class Robot:\n",
    "    def __init__(self,n,c,w):\n",
    "        self.name=n\n",
    "        self.color=c\n",
    "        self.weight=w\n",
    "        \n",
    "    def introduce_self(self):\n",
    "        print(\"my name is:\" + self.name)\n",
    "        print(\"the color i like is:\" + self.color)\n",
    "        print(\"my weight is:\" + self.weight)\n",
    "        "
   ]
  },
  {
   "cell_type": "code",
   "execution_count": 2,
   "id": "1ad73a69",
   "metadata": {},
   "outputs": [],
   "source": [
    "r1= Robot(\"nick\",\"red\",\"30\")\n",
    "r2=Robot(\"pratik\",\"blue\",\"45\")\n"
   ]
  },
  {
   "cell_type": "code",
   "execution_count": 3,
   "id": "acf2ef78",
   "metadata": {},
   "outputs": [
    {
     "name": "stdout",
     "output_type": "stream",
     "text": [
      "my name is:nick\n",
      "the color i like is:red\n",
      "my weight is:30\n"
     ]
    }
   ],
   "source": [
    "r1.introduce_self()"
   ]
  },
  {
   "cell_type": "code",
   "execution_count": 4,
   "id": "3f07a120",
   "metadata": {},
   "outputs": [
    {
     "name": "stdout",
     "output_type": "stream",
     "text": [
      "my name is:pratik\n",
      "the color i like is:blue\n",
      "my weight is:45\n"
     ]
    }
   ],
   "source": [
    "r2.introduce_self()"
   ]
  },
  {
   "cell_type": "code",
   "execution_count": null,
   "id": "790e5255",
   "metadata": {},
   "outputs": [],
   "source": []
  }
 ],
 "metadata": {
  "kernelspec": {
   "display_name": "Python 3 (ipykernel)",
   "language": "python",
   "name": "python3"
  },
  "language_info": {
   "codemirror_mode": {
    "name": "ipython",
    "version": 3
   },
   "file_extension": ".py",
   "mimetype": "text/x-python",
   "name": "python",
   "nbconvert_exporter": "python",
   "pygments_lexer": "ipython3",
   "version": "3.8.10"
  }
 },
 "nbformat": 4,
 "nbformat_minor": 5
}
