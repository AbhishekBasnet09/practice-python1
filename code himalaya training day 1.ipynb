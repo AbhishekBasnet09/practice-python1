{
 "cells": [
  {
   "cell_type": "code",
   "execution_count": 2,
   "id": "b5a17dff",
   "metadata": {},
   "outputs": [],
   "source": [
    "list1=[\"marker\",\"board\",\"flex\"]\n",
    "list2=[\"duster\",\"pen\",\"paper\"]\n",
    "\n"
   ]
  },
  {
   "cell_type": "code",
   "execution_count": 3,
   "id": "f9612783",
   "metadata": {},
   "outputs": [],
   "source": [
    "list2.remove(\"duster\")"
   ]
  },
  {
   "cell_type": "code",
   "execution_count": 4,
   "id": "abb0ee47",
   "metadata": {},
   "outputs": [
    {
     "data": {
      "text/plain": [
       "['pen', 'paper']"
      ]
     },
     "execution_count": 4,
     "metadata": {},
     "output_type": "execute_result"
    }
   ],
   "source": [
    "list2"
   ]
  },
  {
   "cell_type": "code",
   "execution_count": 5,
   "id": "86e17cd9",
   "metadata": {},
   "outputs": [
    {
     "data": {
      "text/plain": [
       "'flex'"
      ]
     },
     "execution_count": 5,
     "metadata": {},
     "output_type": "execute_result"
    }
   ],
   "source": [
    "list1.pop()"
   ]
  },
  {
   "cell_type": "code",
   "execution_count": 7,
   "id": "0081bfe8",
   "metadata": {},
   "outputs": [],
   "source": [
    "list2.sort()"
   ]
  },
  {
   "cell_type": "code",
   "execution_count": 8,
   "id": "a41e01ee",
   "metadata": {},
   "outputs": [
    {
     "data": {
      "text/plain": [
       "['paper', 'pen']"
      ]
     },
     "execution_count": 8,
     "metadata": {},
     "output_type": "execute_result"
    }
   ],
   "source": [
    "list2"
   ]
  },
  {
   "cell_type": "markdown",
   "id": "8611c439",
   "metadata": {},
   "source": [
    "# classes and objects"
   ]
  },
  {
   "cell_type": "code",
   "execution_count": 6,
   "id": "7734c244",
   "metadata": {},
   "outputs": [],
   "source": [
    "class Robot:\n",
    "    def introduce_self(self):\n",
    "        print(\"my name is:\"+ self.name)\n",
    "        print(\"i like the color:\"+ self.color)\n",
    "        print(\"my weight is:\"+ self.weight)"
   ]
  },
  {
   "cell_type": "code",
   "execution_count": 14,
   "id": "420b8289",
   "metadata": {},
   "outputs": [],
   "source": [
    "r1=Robot()\n",
    "r1.name=\"Tom\"\n",
    "r1.color=\"Red\"\n",
    "r1.weight= str(\"30\")"
   ]
  },
  {
   "cell_type": "code",
   "execution_count": 15,
   "id": "3be3f9be",
   "metadata": {},
   "outputs": [
    {
     "name": "stdout",
     "output_type": "stream",
     "text": [
      "my name is:Tom\n",
      "i like the color:Red\n",
      "my weight is:30\n"
     ]
    }
   ],
   "source": [
    "r1.introduce_self()"
   ]
  },
  {
   "cell_type": "code",
   "execution_count": 16,
   "id": "b9e00b33",
   "metadata": {},
   "outputs": [],
   "source": [
    "r2=Robot()\n",
    "r2.name=\"Jerry\"\n",
    "r2.color=\"white\"\n",
    "r2.weight=\"45\""
   ]
  },
  {
   "cell_type": "code",
   "execution_count": 17,
   "id": "830321f1",
   "metadata": {},
   "outputs": [
    {
     "name": "stdout",
     "output_type": "stream",
     "text": [
      "my name is:Jerry\n",
      "i like the color:white\n",
      "my weight is:45\n"
     ]
    }
   ],
   "source": [
    "r2.introduce_self()"
   ]
  },
  {
   "cell_type": "code",
   "execution_count": null,
   "id": "853cd9da",
   "metadata": {},
   "outputs": [],
   "source": []
  },
  {
   "cell_type": "code",
   "execution_count": null,
   "id": "ee4d3db0",
   "metadata": {},
   "outputs": [],
   "source": []
  },
  {
   "cell_type": "markdown",
   "id": "976fb42b",
   "metadata": {},
   "source": [
    "# using constructor __init__"
   ]
  },
  {
   "cell_type": "code",
   "execution_count": 18,
   "id": "ec64b9ac",
   "metadata": {},
   "outputs": [],
   "source": [
    "class Broad:\n",
    "    def __init__(self,name,color,weight):\n",
    "        self.name=name\n",
    "        self.color=color\n",
    "        self.weight=weight\n",
    "        \n",
    "        \n",
    "    def  introduce_self(self):\n",
    "        print(\"my name is:\" +self.name)\n",
    "        print(\"i like the color:\" +self.color)\n",
    "        print(\"my weight is:\" +self.weight)\n",
    "        "
   ]
  },
  {
   "cell_type": "code",
   "execution_count": 19,
   "id": "7b82d09a",
   "metadata": {},
   "outputs": [],
   "source": [
    "r1=Broad(\"tom\",\"red\",\"30\")"
   ]
  },
  {
   "cell_type": "code",
   "execution_count": 20,
   "id": "6b3772a8",
   "metadata": {},
   "outputs": [
    {
     "name": "stdout",
     "output_type": "stream",
     "text": [
      "my name is:tom\n",
      "i like the color:red\n",
      "my weight is:30\n"
     ]
    }
   ],
   "source": [
    "r1.introduce_self()"
   ]
  },
  {
   "cell_type": "code",
   "execution_count": 21,
   "id": "9e0b63f9",
   "metadata": {},
   "outputs": [],
   "source": [
    "r2=Broad(\"jerry\",\"blue\",\"45\")"
   ]
  },
  {
   "cell_type": "code",
   "execution_count": 22,
   "id": "e6e3f847",
   "metadata": {},
   "outputs": [
    {
     "name": "stdout",
     "output_type": "stream",
     "text": [
      "my name is:jerry\n",
      "i like the color:blue\n",
      "my weight is:45\n"
     ]
    }
   ],
   "source": [
    "r2.introduce_self()"
   ]
  },
  {
   "cell_type": "code",
   "execution_count": 24,
   "id": "e45f0042",
   "metadata": {},
   "outputs": [],
   "source": [
    "class Person:\n",
    "    def __init__(self,n,p,i):\n",
    "        self.name=n\n",
    "        self.personality=p\n",
    "        self.isSitting=i\n",
    "        \n",
    "        \n",
    "        \n",
    "    def sit_down(self):\n",
    "        self.isSitting= True\n",
    "        \n",
    "    def stand_up(self):\n",
    "        self.isSitting= False"
   ]
  },
  {
   "cell_type": "code",
   "execution_count": 25,
   "id": "645c5cbd",
   "metadata": {},
   "outputs": [],
   "source": [
    "p1=Person(\"alice\",\"aggresive\",False)\n",
    "p2=Person(\"becky\",\"talative\",True)"
   ]
  },
  {
   "cell_type": "code",
   "execution_count": 26,
   "id": "5129ecbf",
   "metadata": {},
   "outputs": [],
   "source": [
    "p1.sit_down()"
   ]
  },
  {
   "cell_type": "code",
   "execution_count": 27,
   "id": "97ece4a4",
   "metadata": {},
   "outputs": [
    {
     "data": {
      "text/plain": [
       "<__main__.Person at 0x25ec510fb20>"
      ]
     },
     "execution_count": 27,
     "metadata": {},
     "output_type": "execute_result"
    }
   ],
   "source": [
    "p1"
   ]
  },
  {
   "cell_type": "code",
   "execution_count": 30,
   "id": "560bd58d",
   "metadata": {},
   "outputs": [],
   "source": [
    "p1.robotOwned=r1\n",
    "p2.robotOwned=r2"
   ]
  },
  {
   "cell_type": "code",
   "execution_count": 31,
   "id": "812e3db9",
   "metadata": {},
   "outputs": [
    {
     "ename": "AttributeError",
     "evalue": "'Person' object has no attribute 'robot_owned'",
     "output_type": "error",
     "traceback": [
      "\u001b[1;31m---------------------------------------------------------------------------\u001b[0m",
      "\u001b[1;31mAttributeError\u001b[0m                            Traceback (most recent call last)",
      "Input \u001b[1;32mIn [31]\u001b[0m, in \u001b[0;36m<cell line: 1>\u001b[1;34m()\u001b[0m\n\u001b[1;32m----> 1\u001b[0m \u001b[43mp1\u001b[49m\u001b[38;5;241;43m.\u001b[39;49m\u001b[43mrobot_owned\u001b[49m\u001b[38;5;241m.\u001b[39mintroduce_self()\n",
      "\u001b[1;31mAttributeError\u001b[0m: 'Person' object has no attribute 'robot_owned'"
     ]
    }
   ],
   "source": [
    "p1.robot_owned.introduce_self()"
   ]
  },
  {
   "cell_type": "code",
   "execution_count": null,
   "id": "4528201e",
   "metadata": {},
   "outputs": [],
   "source": []
  }
 ],
 "metadata": {
  "kernelspec": {
   "display_name": "Python 3 (ipykernel)",
   "language": "python",
   "name": "python3"
  },
  "language_info": {
   "codemirror_mode": {
    "name": "ipython",
    "version": 3
   },
   "file_extension": ".py",
   "mimetype": "text/x-python",
   "name": "python",
   "nbconvert_exporter": "python",
   "pygments_lexer": "ipython3",
   "version": "3.8.10"
  }
 },
 "nbformat": 4,
 "nbformat_minor": 5
}
